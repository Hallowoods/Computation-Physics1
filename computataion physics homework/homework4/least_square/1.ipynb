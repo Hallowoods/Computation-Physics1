{
 "cells": [
  {
   "cell_type": "code",
   "execution_count": 3,
   "metadata": {},
   "outputs": [
    {
     "name": "stdout",
     "output_type": "stream",
     "text": [
      "原矩阵:\n",
      " [[1 2]\n",
      " [3 4]]\n",
      "扩展后的矩阵:\n",
      " [[1 2]\n",
      " [3 4]\n",
      " [0 0]\n",
      " [0 0]]\n"
     ]
    }
   ],
   "source": [
    "# 创建一个示例矩阵\n",
    "\n",
    "import numpy as np\n",
    "matrix = np.array([[1, 2], [3, 4]])\n",
    "\n",
    "# 增大矩阵的大小，添加零\n",
    "larger_matrix = np.pad(matrix, ((0, 2), (0, 0)), mode='constant')\n",
    "\n",
    "# 打印扩展后的矩阵\n",
    "print(\"原矩阵:\\n\", matrix)\n",
    "print(\"扩展后的矩阵:\\n\", larger_matrix)"
   ]
  }
 ],
 "metadata": {
  "kernelspec": {
   "display_name": "cwq",
   "language": "python",
   "name": "python3"
  },
  "language_info": {
   "codemirror_mode": {
    "name": "ipython",
    "version": 3
   },
   "file_extension": ".py",
   "mimetype": "text/x-python",
   "name": "python",
   "nbconvert_exporter": "python",
   "pygments_lexer": "ipython3",
   "version": "3.10.12"
  }
 },
 "nbformat": 4,
 "nbformat_minor": 2
}
